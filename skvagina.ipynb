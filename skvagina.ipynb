{
 "cells": [
  {
   "cell_type": "markdown",
   "metadata": {},
   "source": [
    "# Выбор локации для скважины"
   ]
  },
  {
   "cell_type": "markdown",
   "metadata": {},
   "source": [
    "Допустим, вы работаете в добывающей компании «ГлавРосГосНефть». Нужно решить, где бурить новую скважину.\n",
    "\n",
    "Вам предоставлены пробы нефти в трёх регионах: в каждом 10 000 месторождений, где измерили качество нефти и объём её запасов. Постройте модель машинного обучения, которая поможет определить регион, где добыча принесёт наибольшую прибыль. Проанализируйте возможную прибыль и риски техникой *Bootstrap.*\n",
    "\n",
    "Шаги для выбора локации:\n",
    "\n",
    "- В избранном регионе ищут месторождения, для каждого определяют значения признаков;\n",
    "- Строят модель и оценивают объём запасов;\n",
    "- Выбирают месторождения с самым высокими оценками значений. Количество месторождений зависит от бюджета компании и стоимости разработки одной скважины;\n",
    "- Прибыль равна суммарной прибыли отобранных месторождений."
   ]
  },
  {
   "cell_type": "markdown",
   "metadata": {},
   "source": [
    "## Загрузка и подготовка данных"
   ]
  },
  {
   "cell_type": "code",
   "execution_count": 1,
   "metadata": {},
   "outputs": [],
   "source": [
    "import pandas as pd\n",
    "from sklearn.model_selection import train_test_split\n",
    "from sklearn.linear_model import LinearRegression\n",
    "from sklearn.preprocessing import StandardScaler\n",
    "from sklearn.metrics import accuracy_score\n",
    "from scipy import stats as st\n",
    "import numpy as np\n",
    "from sklearn.metrics import mean_squared_error, r2_score"
   ]
  },
  {
   "cell_type": "code",
   "execution_count": 2,
   "metadata": {},
   "outputs": [
    {
     "data": {
      "text/html": [
       "<style>.container { width:90% !important; }</style>"
      ],
      "text/plain": [
       "<IPython.core.display.HTML object>"
      ]
     },
     "metadata": {},
     "output_type": "display_data"
    }
   ],
   "source": [
    "from IPython.core.display import display, HTML\n",
    "display(HTML(\"<style>.container { width:90% !important; }</style>\"))"
   ]
  },
  {
   "cell_type": "code",
   "execution_count": 3,
   "metadata": {},
   "outputs": [],
   "source": [
    "data_1 = pd.read_csv('/datasets/geo_data_0.csv')\n",
    "data_2 = pd.read_csv('/datasets/geo_data_1.csv')\n",
    "data_3 = pd.read_csv('/datasets/geo_data_2.csv')"
   ]
  },
  {
   "cell_type": "code",
   "execution_count": 4,
   "metadata": {},
   "outputs": [
    {
     "data": {
      "text/html": [
       "<div>\n",
       "<style scoped>\n",
       "    .dataframe tbody tr th:only-of-type {\n",
       "        vertical-align: middle;\n",
       "    }\n",
       "\n",
       "    .dataframe tbody tr th {\n",
       "        vertical-align: top;\n",
       "    }\n",
       "\n",
       "    .dataframe thead th {\n",
       "        text-align: right;\n",
       "    }\n",
       "</style>\n",
       "<table border=\"1\" class=\"dataframe\">\n",
       "  <thead>\n",
       "    <tr style=\"text-align: right;\">\n",
       "      <th></th>\n",
       "      <th>id</th>\n",
       "      <th>f0</th>\n",
       "      <th>f1</th>\n",
       "      <th>f2</th>\n",
       "      <th>product</th>\n",
       "    </tr>\n",
       "  </thead>\n",
       "  <tbody>\n",
       "    <tr>\n",
       "      <th>0</th>\n",
       "      <td>txEyH</td>\n",
       "      <td>0.705745</td>\n",
       "      <td>-0.497823</td>\n",
       "      <td>1.221170</td>\n",
       "      <td>105.280062</td>\n",
       "    </tr>\n",
       "    <tr>\n",
       "      <th>1</th>\n",
       "      <td>2acmU</td>\n",
       "      <td>1.334711</td>\n",
       "      <td>-0.340164</td>\n",
       "      <td>4.365080</td>\n",
       "      <td>73.037750</td>\n",
       "    </tr>\n",
       "    <tr>\n",
       "      <th>2</th>\n",
       "      <td>409Wp</td>\n",
       "      <td>1.022732</td>\n",
       "      <td>0.151990</td>\n",
       "      <td>1.419926</td>\n",
       "      <td>85.265647</td>\n",
       "    </tr>\n",
       "    <tr>\n",
       "      <th>3</th>\n",
       "      <td>iJLyR</td>\n",
       "      <td>-0.032172</td>\n",
       "      <td>0.139033</td>\n",
       "      <td>2.978566</td>\n",
       "      <td>168.620776</td>\n",
       "    </tr>\n",
       "    <tr>\n",
       "      <th>4</th>\n",
       "      <td>Xdl7t</td>\n",
       "      <td>1.988431</td>\n",
       "      <td>0.155413</td>\n",
       "      <td>4.751769</td>\n",
       "      <td>154.036647</td>\n",
       "    </tr>\n",
       "  </tbody>\n",
       "</table>\n",
       "</div>"
      ],
      "text/plain": [
       "      id        f0        f1        f2     product\n",
       "0  txEyH  0.705745 -0.497823  1.221170  105.280062\n",
       "1  2acmU  1.334711 -0.340164  4.365080   73.037750\n",
       "2  409Wp  1.022732  0.151990  1.419926   85.265647\n",
       "3  iJLyR -0.032172  0.139033  2.978566  168.620776\n",
       "4  Xdl7t  1.988431  0.155413  4.751769  154.036647"
      ]
     },
     "execution_count": 4,
     "metadata": {},
     "output_type": "execute_result"
    }
   ],
   "source": [
    "data_1.head()"
   ]
  },
  {
   "cell_type": "code",
   "execution_count": 5,
   "metadata": {},
   "outputs": [],
   "source": [
    "def display_data_summary(data):\n",
    "    # Вывод первых 5 строк данных\n",
    "    print(\"Первые 5 строк данных:\")\n",
    "    print(data.head())\n",
    "    print()\n",
    "    # Вывод общей информации о данных\n",
    "    print(\"Информация о данных:\")\n",
    "    print(data.info())\n",
    "    print()\n",
    "    # Вывод основной статистической информации о данных\n",
    "    print(\"Основная статистическая информация:\")\n",
    "    print(data.describe())"
   ]
  },
  {
   "cell_type": "code",
   "execution_count": 6,
   "metadata": {},
   "outputs": [
    {
     "name": "stdout",
     "output_type": "stream",
     "text": [
      "Первые 5 строк данных:\n",
      "      id        f0        f1        f2     product\n",
      "0  txEyH  0.705745 -0.497823  1.221170  105.280062\n",
      "1  2acmU  1.334711 -0.340164  4.365080   73.037750\n",
      "2  409Wp  1.022732  0.151990  1.419926   85.265647\n",
      "3  iJLyR -0.032172  0.139033  2.978566  168.620776\n",
      "4  Xdl7t  1.988431  0.155413  4.751769  154.036647\n",
      "\n",
      "Информация о данных:\n",
      "<class 'pandas.core.frame.DataFrame'>\n",
      "RangeIndex: 100000 entries, 0 to 99999\n",
      "Data columns (total 5 columns):\n",
      " #   Column   Non-Null Count   Dtype  \n",
      "---  ------   --------------   -----  \n",
      " 0   id       100000 non-null  object \n",
      " 1   f0       100000 non-null  float64\n",
      " 2   f1       100000 non-null  float64\n",
      " 3   f2       100000 non-null  float64\n",
      " 4   product  100000 non-null  float64\n",
      "dtypes: float64(4), object(1)\n",
      "memory usage: 3.8+ MB\n",
      "None\n",
      "\n",
      "Основная статистическая информация:\n",
      "                  f0             f1             f2        product\n",
      "count  100000.000000  100000.000000  100000.000000  100000.000000\n",
      "mean        0.500419       0.250143       2.502647      92.500000\n",
      "std         0.871832       0.504433       3.248248      44.288691\n",
      "min        -1.408605      -0.848218     -12.088328       0.000000\n",
      "25%        -0.072580      -0.200881       0.287748      56.497507\n",
      "50%         0.502360       0.250252       2.515969      91.849972\n",
      "75%         1.073581       0.700646       4.715088     128.564089\n",
      "max         2.362331       1.343769      16.003790     185.364347\n"
     ]
    }
   ],
   "source": [
    "display_data_summary(data_1)"
   ]
  },
  {
   "cell_type": "code",
   "execution_count": 7,
   "metadata": {},
   "outputs": [
    {
     "name": "stdout",
     "output_type": "stream",
     "text": [
      "<class 'pandas.core.frame.DataFrame'>\n",
      "RangeIndex: 100000 entries, 0 to 99999\n",
      "Data columns (total 5 columns):\n",
      " #   Column   Non-Null Count   Dtype  \n",
      "---  ------   --------------   -----  \n",
      " 0   id       100000 non-null  object \n",
      " 1   f0       100000 non-null  float64\n",
      " 2   f1       100000 non-null  float64\n",
      " 3   f2       100000 non-null  float64\n",
      " 4   product  100000 non-null  float64\n",
      "dtypes: float64(4), object(1)\n",
      "memory usage: 3.8+ MB\n"
     ]
    }
   ],
   "source": [
    "data_1.info()"
   ]
  },
  {
   "cell_type": "code",
   "execution_count": 8,
   "metadata": {},
   "outputs": [
    {
     "data": {
      "text/html": [
       "<div>\n",
       "<style scoped>\n",
       "    .dataframe tbody tr th:only-of-type {\n",
       "        vertical-align: middle;\n",
       "    }\n",
       "\n",
       "    .dataframe tbody tr th {\n",
       "        vertical-align: top;\n",
       "    }\n",
       "\n",
       "    .dataframe thead th {\n",
       "        text-align: right;\n",
       "    }\n",
       "</style>\n",
       "<table border=\"1\" class=\"dataframe\">\n",
       "  <thead>\n",
       "    <tr style=\"text-align: right;\">\n",
       "      <th></th>\n",
       "      <th>f0</th>\n",
       "      <th>f1</th>\n",
       "      <th>f2</th>\n",
       "      <th>product</th>\n",
       "    </tr>\n",
       "  </thead>\n",
       "  <tbody>\n",
       "    <tr>\n",
       "      <th>count</th>\n",
       "      <td>100000.000000</td>\n",
       "      <td>100000.000000</td>\n",
       "      <td>100000.000000</td>\n",
       "      <td>100000.000000</td>\n",
       "    </tr>\n",
       "    <tr>\n",
       "      <th>mean</th>\n",
       "      <td>0.500419</td>\n",
       "      <td>0.250143</td>\n",
       "      <td>2.502647</td>\n",
       "      <td>92.500000</td>\n",
       "    </tr>\n",
       "    <tr>\n",
       "      <th>std</th>\n",
       "      <td>0.871832</td>\n",
       "      <td>0.504433</td>\n",
       "      <td>3.248248</td>\n",
       "      <td>44.288691</td>\n",
       "    </tr>\n",
       "    <tr>\n",
       "      <th>min</th>\n",
       "      <td>-1.408605</td>\n",
       "      <td>-0.848218</td>\n",
       "      <td>-12.088328</td>\n",
       "      <td>0.000000</td>\n",
       "    </tr>\n",
       "    <tr>\n",
       "      <th>25%</th>\n",
       "      <td>-0.072580</td>\n",
       "      <td>-0.200881</td>\n",
       "      <td>0.287748</td>\n",
       "      <td>56.497507</td>\n",
       "    </tr>\n",
       "    <tr>\n",
       "      <th>50%</th>\n",
       "      <td>0.502360</td>\n",
       "      <td>0.250252</td>\n",
       "      <td>2.515969</td>\n",
       "      <td>91.849972</td>\n",
       "    </tr>\n",
       "    <tr>\n",
       "      <th>75%</th>\n",
       "      <td>1.073581</td>\n",
       "      <td>0.700646</td>\n",
       "      <td>4.715088</td>\n",
       "      <td>128.564089</td>\n",
       "    </tr>\n",
       "    <tr>\n",
       "      <th>max</th>\n",
       "      <td>2.362331</td>\n",
       "      <td>1.343769</td>\n",
       "      <td>16.003790</td>\n",
       "      <td>185.364347</td>\n",
       "    </tr>\n",
       "  </tbody>\n",
       "</table>\n",
       "</div>"
      ],
      "text/plain": [
       "                  f0             f1             f2        product\n",
       "count  100000.000000  100000.000000  100000.000000  100000.000000\n",
       "mean        0.500419       0.250143       2.502647      92.500000\n",
       "std         0.871832       0.504433       3.248248      44.288691\n",
       "min        -1.408605      -0.848218     -12.088328       0.000000\n",
       "25%        -0.072580      -0.200881       0.287748      56.497507\n",
       "50%         0.502360       0.250252       2.515969      91.849972\n",
       "75%         1.073581       0.700646       4.715088     128.564089\n",
       "max         2.362331       1.343769      16.003790     185.364347"
      ]
     },
     "execution_count": 8,
     "metadata": {},
     "output_type": "execute_result"
    }
   ],
   "source": [
    "data_1.describe()"
   ]
  },
  {
   "cell_type": "code",
   "execution_count": 9,
   "metadata": {},
   "outputs": [
    {
     "data": {
      "text/html": [
       "<div>\n",
       "<style scoped>\n",
       "    .dataframe tbody tr th:only-of-type {\n",
       "        vertical-align: middle;\n",
       "    }\n",
       "\n",
       "    .dataframe tbody tr th {\n",
       "        vertical-align: top;\n",
       "    }\n",
       "\n",
       "    .dataframe thead th {\n",
       "        text-align: right;\n",
       "    }\n",
       "</style>\n",
       "<table border=\"1\" class=\"dataframe\">\n",
       "  <thead>\n",
       "    <tr style=\"text-align: right;\">\n",
       "      <th></th>\n",
       "      <th>id</th>\n",
       "      <th>f0</th>\n",
       "      <th>f1</th>\n",
       "      <th>f2</th>\n",
       "      <th>product</th>\n",
       "    </tr>\n",
       "  </thead>\n",
       "  <tbody>\n",
       "    <tr>\n",
       "      <th>0</th>\n",
       "      <td>kBEdx</td>\n",
       "      <td>-15.001348</td>\n",
       "      <td>-8.276000</td>\n",
       "      <td>-0.005876</td>\n",
       "      <td>3.179103</td>\n",
       "    </tr>\n",
       "    <tr>\n",
       "      <th>1</th>\n",
       "      <td>62mP7</td>\n",
       "      <td>14.272088</td>\n",
       "      <td>-3.475083</td>\n",
       "      <td>0.999183</td>\n",
       "      <td>26.953261</td>\n",
       "    </tr>\n",
       "    <tr>\n",
       "      <th>2</th>\n",
       "      <td>vyE1P</td>\n",
       "      <td>6.263187</td>\n",
       "      <td>-5.948386</td>\n",
       "      <td>5.001160</td>\n",
       "      <td>134.766305</td>\n",
       "    </tr>\n",
       "    <tr>\n",
       "      <th>3</th>\n",
       "      <td>KcrkZ</td>\n",
       "      <td>-13.081196</td>\n",
       "      <td>-11.506057</td>\n",
       "      <td>4.999415</td>\n",
       "      <td>137.945408</td>\n",
       "    </tr>\n",
       "    <tr>\n",
       "      <th>4</th>\n",
       "      <td>AHL4O</td>\n",
       "      <td>12.702195</td>\n",
       "      <td>-8.147433</td>\n",
       "      <td>5.004363</td>\n",
       "      <td>134.766305</td>\n",
       "    </tr>\n",
       "  </tbody>\n",
       "</table>\n",
       "</div>"
      ],
      "text/plain": [
       "      id         f0         f1        f2     product\n",
       "0  kBEdx -15.001348  -8.276000 -0.005876    3.179103\n",
       "1  62mP7  14.272088  -3.475083  0.999183   26.953261\n",
       "2  vyE1P   6.263187  -5.948386  5.001160  134.766305\n",
       "3  KcrkZ -13.081196 -11.506057  4.999415  137.945408\n",
       "4  AHL4O  12.702195  -8.147433  5.004363  134.766305"
      ]
     },
     "execution_count": 9,
     "metadata": {},
     "output_type": "execute_result"
    }
   ],
   "source": [
    "data_2.head()"
   ]
  },
  {
   "cell_type": "code",
   "execution_count": 10,
   "metadata": {},
   "outputs": [
    {
     "name": "stdout",
     "output_type": "stream",
     "text": [
      "<class 'pandas.core.frame.DataFrame'>\n",
      "RangeIndex: 100000 entries, 0 to 99999\n",
      "Data columns (total 5 columns):\n",
      " #   Column   Non-Null Count   Dtype  \n",
      "---  ------   --------------   -----  \n",
      " 0   id       100000 non-null  object \n",
      " 1   f0       100000 non-null  float64\n",
      " 2   f1       100000 non-null  float64\n",
      " 3   f2       100000 non-null  float64\n",
      " 4   product  100000 non-null  float64\n",
      "dtypes: float64(4), object(1)\n",
      "memory usage: 3.8+ MB\n"
     ]
    }
   ],
   "source": [
    "data_2.info()"
   ]
  },
  {
   "cell_type": "code",
   "execution_count": 11,
   "metadata": {},
   "outputs": [
    {
     "data": {
      "text/html": [
       "<div>\n",
       "<style scoped>\n",
       "    .dataframe tbody tr th:only-of-type {\n",
       "        vertical-align: middle;\n",
       "    }\n",
       "\n",
       "    .dataframe tbody tr th {\n",
       "        vertical-align: top;\n",
       "    }\n",
       "\n",
       "    .dataframe thead th {\n",
       "        text-align: right;\n",
       "    }\n",
       "</style>\n",
       "<table border=\"1\" class=\"dataframe\">\n",
       "  <thead>\n",
       "    <tr style=\"text-align: right;\">\n",
       "      <th></th>\n",
       "      <th>f0</th>\n",
       "      <th>f1</th>\n",
       "      <th>f2</th>\n",
       "      <th>product</th>\n",
       "    </tr>\n",
       "  </thead>\n",
       "  <tbody>\n",
       "    <tr>\n",
       "      <th>count</th>\n",
       "      <td>100000.000000</td>\n",
       "      <td>100000.000000</td>\n",
       "      <td>100000.000000</td>\n",
       "      <td>100000.000000</td>\n",
       "    </tr>\n",
       "    <tr>\n",
       "      <th>mean</th>\n",
       "      <td>1.141296</td>\n",
       "      <td>-4.796579</td>\n",
       "      <td>2.494541</td>\n",
       "      <td>68.825000</td>\n",
       "    </tr>\n",
       "    <tr>\n",
       "      <th>std</th>\n",
       "      <td>8.965932</td>\n",
       "      <td>5.119872</td>\n",
       "      <td>1.703572</td>\n",
       "      <td>45.944423</td>\n",
       "    </tr>\n",
       "    <tr>\n",
       "      <th>min</th>\n",
       "      <td>-31.609576</td>\n",
       "      <td>-26.358598</td>\n",
       "      <td>-0.018144</td>\n",
       "      <td>0.000000</td>\n",
       "    </tr>\n",
       "    <tr>\n",
       "      <th>25%</th>\n",
       "      <td>-6.298551</td>\n",
       "      <td>-8.267985</td>\n",
       "      <td>1.000021</td>\n",
       "      <td>26.953261</td>\n",
       "    </tr>\n",
       "    <tr>\n",
       "      <th>50%</th>\n",
       "      <td>1.153055</td>\n",
       "      <td>-4.813172</td>\n",
       "      <td>2.011479</td>\n",
       "      <td>57.085625</td>\n",
       "    </tr>\n",
       "    <tr>\n",
       "      <th>75%</th>\n",
       "      <td>8.621015</td>\n",
       "      <td>-1.332816</td>\n",
       "      <td>3.999904</td>\n",
       "      <td>107.813044</td>\n",
       "    </tr>\n",
       "    <tr>\n",
       "      <th>max</th>\n",
       "      <td>29.421755</td>\n",
       "      <td>18.734063</td>\n",
       "      <td>5.019721</td>\n",
       "      <td>137.945408</td>\n",
       "    </tr>\n",
       "  </tbody>\n",
       "</table>\n",
       "</div>"
      ],
      "text/plain": [
       "                  f0             f1             f2        product\n",
       "count  100000.000000  100000.000000  100000.000000  100000.000000\n",
       "mean        1.141296      -4.796579       2.494541      68.825000\n",
       "std         8.965932       5.119872       1.703572      45.944423\n",
       "min       -31.609576     -26.358598      -0.018144       0.000000\n",
       "25%        -6.298551      -8.267985       1.000021      26.953261\n",
       "50%         1.153055      -4.813172       2.011479      57.085625\n",
       "75%         8.621015      -1.332816       3.999904     107.813044\n",
       "max        29.421755      18.734063       5.019721     137.945408"
      ]
     },
     "execution_count": 11,
     "metadata": {},
     "output_type": "execute_result"
    }
   ],
   "source": [
    "data_2.describe()"
   ]
  },
  {
   "cell_type": "code",
   "execution_count": 12,
   "metadata": {},
   "outputs": [
    {
     "data": {
      "text/html": [
       "<div>\n",
       "<style scoped>\n",
       "    .dataframe tbody tr th:only-of-type {\n",
       "        vertical-align: middle;\n",
       "    }\n",
       "\n",
       "    .dataframe tbody tr th {\n",
       "        vertical-align: top;\n",
       "    }\n",
       "\n",
       "    .dataframe thead th {\n",
       "        text-align: right;\n",
       "    }\n",
       "</style>\n",
       "<table border=\"1\" class=\"dataframe\">\n",
       "  <thead>\n",
       "    <tr style=\"text-align: right;\">\n",
       "      <th></th>\n",
       "      <th>id</th>\n",
       "      <th>f0</th>\n",
       "      <th>f1</th>\n",
       "      <th>f2</th>\n",
       "      <th>product</th>\n",
       "    </tr>\n",
       "  </thead>\n",
       "  <tbody>\n",
       "    <tr>\n",
       "      <th>0</th>\n",
       "      <td>fwXo0</td>\n",
       "      <td>-1.146987</td>\n",
       "      <td>0.963328</td>\n",
       "      <td>-0.828965</td>\n",
       "      <td>27.758673</td>\n",
       "    </tr>\n",
       "    <tr>\n",
       "      <th>1</th>\n",
       "      <td>WJtFt</td>\n",
       "      <td>0.262778</td>\n",
       "      <td>0.269839</td>\n",
       "      <td>-2.530187</td>\n",
       "      <td>56.069697</td>\n",
       "    </tr>\n",
       "    <tr>\n",
       "      <th>2</th>\n",
       "      <td>ovLUW</td>\n",
       "      <td>0.194587</td>\n",
       "      <td>0.289035</td>\n",
       "      <td>-5.586433</td>\n",
       "      <td>62.871910</td>\n",
       "    </tr>\n",
       "    <tr>\n",
       "      <th>3</th>\n",
       "      <td>q6cA6</td>\n",
       "      <td>2.236060</td>\n",
       "      <td>-0.553760</td>\n",
       "      <td>0.930038</td>\n",
       "      <td>114.572842</td>\n",
       "    </tr>\n",
       "    <tr>\n",
       "      <th>4</th>\n",
       "      <td>WPMUX</td>\n",
       "      <td>-0.515993</td>\n",
       "      <td>1.716266</td>\n",
       "      <td>5.899011</td>\n",
       "      <td>149.600746</td>\n",
       "    </tr>\n",
       "  </tbody>\n",
       "</table>\n",
       "</div>"
      ],
      "text/plain": [
       "      id        f0        f1        f2     product\n",
       "0  fwXo0 -1.146987  0.963328 -0.828965   27.758673\n",
       "1  WJtFt  0.262778  0.269839 -2.530187   56.069697\n",
       "2  ovLUW  0.194587  0.289035 -5.586433   62.871910\n",
       "3  q6cA6  2.236060 -0.553760  0.930038  114.572842\n",
       "4  WPMUX -0.515993  1.716266  5.899011  149.600746"
      ]
     },
     "execution_count": 12,
     "metadata": {},
     "output_type": "execute_result"
    }
   ],
   "source": [
    "data_3.head()"
   ]
  },
  {
   "cell_type": "code",
   "execution_count": 13,
   "metadata": {},
   "outputs": [
    {
     "name": "stdout",
     "output_type": "stream",
     "text": [
      "<class 'pandas.core.frame.DataFrame'>\n",
      "RangeIndex: 100000 entries, 0 to 99999\n",
      "Data columns (total 5 columns):\n",
      " #   Column   Non-Null Count   Dtype  \n",
      "---  ------   --------------   -----  \n",
      " 0   id       100000 non-null  object \n",
      " 1   f0       100000 non-null  float64\n",
      " 2   f1       100000 non-null  float64\n",
      " 3   f2       100000 non-null  float64\n",
      " 4   product  100000 non-null  float64\n",
      "dtypes: float64(4), object(1)\n",
      "memory usage: 3.8+ MB\n"
     ]
    }
   ],
   "source": [
    "data_3.info()"
   ]
  },
  {
   "cell_type": "code",
   "execution_count": 14,
   "metadata": {},
   "outputs": [
    {
     "data": {
      "text/html": [
       "<div>\n",
       "<style scoped>\n",
       "    .dataframe tbody tr th:only-of-type {\n",
       "        vertical-align: middle;\n",
       "    }\n",
       "\n",
       "    .dataframe tbody tr th {\n",
       "        vertical-align: top;\n",
       "    }\n",
       "\n",
       "    .dataframe thead th {\n",
       "        text-align: right;\n",
       "    }\n",
       "</style>\n",
       "<table border=\"1\" class=\"dataframe\">\n",
       "  <thead>\n",
       "    <tr style=\"text-align: right;\">\n",
       "      <th></th>\n",
       "      <th>f0</th>\n",
       "      <th>f1</th>\n",
       "      <th>f2</th>\n",
       "      <th>product</th>\n",
       "    </tr>\n",
       "  </thead>\n",
       "  <tbody>\n",
       "    <tr>\n",
       "      <th>count</th>\n",
       "      <td>100000.000000</td>\n",
       "      <td>100000.000000</td>\n",
       "      <td>100000.000000</td>\n",
       "      <td>100000.000000</td>\n",
       "    </tr>\n",
       "    <tr>\n",
       "      <th>mean</th>\n",
       "      <td>0.002023</td>\n",
       "      <td>-0.002081</td>\n",
       "      <td>2.495128</td>\n",
       "      <td>95.000000</td>\n",
       "    </tr>\n",
       "    <tr>\n",
       "      <th>std</th>\n",
       "      <td>1.732045</td>\n",
       "      <td>1.730417</td>\n",
       "      <td>3.473445</td>\n",
       "      <td>44.749921</td>\n",
       "    </tr>\n",
       "    <tr>\n",
       "      <th>min</th>\n",
       "      <td>-8.760004</td>\n",
       "      <td>-7.084020</td>\n",
       "      <td>-11.970335</td>\n",
       "      <td>0.000000</td>\n",
       "    </tr>\n",
       "    <tr>\n",
       "      <th>25%</th>\n",
       "      <td>-1.162288</td>\n",
       "      <td>-1.174820</td>\n",
       "      <td>0.130359</td>\n",
       "      <td>59.450441</td>\n",
       "    </tr>\n",
       "    <tr>\n",
       "      <th>50%</th>\n",
       "      <td>0.009424</td>\n",
       "      <td>-0.009482</td>\n",
       "      <td>2.484236</td>\n",
       "      <td>94.925613</td>\n",
       "    </tr>\n",
       "    <tr>\n",
       "      <th>75%</th>\n",
       "      <td>1.158535</td>\n",
       "      <td>1.163678</td>\n",
       "      <td>4.858794</td>\n",
       "      <td>130.595027</td>\n",
       "    </tr>\n",
       "    <tr>\n",
       "      <th>max</th>\n",
       "      <td>7.238262</td>\n",
       "      <td>7.844801</td>\n",
       "      <td>16.739402</td>\n",
       "      <td>190.029838</td>\n",
       "    </tr>\n",
       "  </tbody>\n",
       "</table>\n",
       "</div>"
      ],
      "text/plain": [
       "                  f0             f1             f2        product\n",
       "count  100000.000000  100000.000000  100000.000000  100000.000000\n",
       "mean        0.002023      -0.002081       2.495128      95.000000\n",
       "std         1.732045       1.730417       3.473445      44.749921\n",
       "min        -8.760004      -7.084020     -11.970335       0.000000\n",
       "25%        -1.162288      -1.174820       0.130359      59.450441\n",
       "50%         0.009424      -0.009482       2.484236      94.925613\n",
       "75%         1.158535       1.163678       4.858794     130.595027\n",
       "max         7.238262       7.844801      16.739402     190.029838"
      ]
     },
     "execution_count": 14,
     "metadata": {},
     "output_type": "execute_result"
    }
   ],
   "source": [
    "data_3.describe()"
   ]
  },
  {
   "cell_type": "code",
   "execution_count": 15,
   "metadata": {},
   "outputs": [
    {
     "name": "stdout",
     "output_type": "stream",
     "text": [
      "0\n",
      "0\n",
      "0\n"
     ]
    }
   ],
   "source": [
    "print(data_1.duplicated().sum())\n",
    "print(data_2.duplicated().sum())\n",
    "print(data_3.duplicated().sum())"
   ]
  },
  {
   "cell_type": "code",
   "execution_count": 16,
   "metadata": {},
   "outputs": [
    {
     "data": {
      "text/html": [
       "<div>\n",
       "<style scoped>\n",
       "    .dataframe tbody tr th:only-of-type {\n",
       "        vertical-align: middle;\n",
       "    }\n",
       "\n",
       "    .dataframe tbody tr th {\n",
       "        vertical-align: top;\n",
       "    }\n",
       "\n",
       "    .dataframe thead th {\n",
       "        text-align: right;\n",
       "    }\n",
       "</style>\n",
       "<table border=\"1\" class=\"dataframe\">\n",
       "  <thead>\n",
       "    <tr style=\"text-align: right;\">\n",
       "      <th></th>\n",
       "      <th>f0</th>\n",
       "      <th>f1</th>\n",
       "      <th>f2</th>\n",
       "      <th>product</th>\n",
       "    </tr>\n",
       "  </thead>\n",
       "  <tbody>\n",
       "    <tr>\n",
       "      <th>f0</th>\n",
       "      <td>1.000000</td>\n",
       "      <td>-0.440723</td>\n",
       "      <td>-0.003153</td>\n",
       "      <td>0.143536</td>\n",
       "    </tr>\n",
       "    <tr>\n",
       "      <th>f1</th>\n",
       "      <td>-0.440723</td>\n",
       "      <td>1.000000</td>\n",
       "      <td>0.001724</td>\n",
       "      <td>-0.192356</td>\n",
       "    </tr>\n",
       "    <tr>\n",
       "      <th>f2</th>\n",
       "      <td>-0.003153</td>\n",
       "      <td>0.001724</td>\n",
       "      <td>1.000000</td>\n",
       "      <td>0.483663</td>\n",
       "    </tr>\n",
       "    <tr>\n",
       "      <th>product</th>\n",
       "      <td>0.143536</td>\n",
       "      <td>-0.192356</td>\n",
       "      <td>0.483663</td>\n",
       "      <td>1.000000</td>\n",
       "    </tr>\n",
       "  </tbody>\n",
       "</table>\n",
       "</div>"
      ],
      "text/plain": [
       "               f0        f1        f2   product\n",
       "f0       1.000000 -0.440723 -0.003153  0.143536\n",
       "f1      -0.440723  1.000000  0.001724 -0.192356\n",
       "f2      -0.003153  0.001724  1.000000  0.483663\n",
       "product  0.143536 -0.192356  0.483663  1.000000"
      ]
     },
     "execution_count": 16,
     "metadata": {},
     "output_type": "execute_result"
    }
   ],
   "source": [
    "data_1.corr()"
   ]
  },
  {
   "cell_type": "code",
   "execution_count": 17,
   "metadata": {},
   "outputs": [
    {
     "data": {
      "text/html": [
       "<div>\n",
       "<style scoped>\n",
       "    .dataframe tbody tr th:only-of-type {\n",
       "        vertical-align: middle;\n",
       "    }\n",
       "\n",
       "    .dataframe tbody tr th {\n",
       "        vertical-align: top;\n",
       "    }\n",
       "\n",
       "    .dataframe thead th {\n",
       "        text-align: right;\n",
       "    }\n",
       "</style>\n",
       "<table border=\"1\" class=\"dataframe\">\n",
       "  <thead>\n",
       "    <tr style=\"text-align: right;\">\n",
       "      <th></th>\n",
       "      <th>f0</th>\n",
       "      <th>f1</th>\n",
       "      <th>f2</th>\n",
       "      <th>product</th>\n",
       "    </tr>\n",
       "  </thead>\n",
       "  <tbody>\n",
       "    <tr>\n",
       "      <th>f0</th>\n",
       "      <td>1.000000</td>\n",
       "      <td>0.182287</td>\n",
       "      <td>-0.001777</td>\n",
       "      <td>-0.030491</td>\n",
       "    </tr>\n",
       "    <tr>\n",
       "      <th>f1</th>\n",
       "      <td>0.182287</td>\n",
       "      <td>1.000000</td>\n",
       "      <td>-0.002595</td>\n",
       "      <td>-0.010155</td>\n",
       "    </tr>\n",
       "    <tr>\n",
       "      <th>f2</th>\n",
       "      <td>-0.001777</td>\n",
       "      <td>-0.002595</td>\n",
       "      <td>1.000000</td>\n",
       "      <td>0.999397</td>\n",
       "    </tr>\n",
       "    <tr>\n",
       "      <th>product</th>\n",
       "      <td>-0.030491</td>\n",
       "      <td>-0.010155</td>\n",
       "      <td>0.999397</td>\n",
       "      <td>1.000000</td>\n",
       "    </tr>\n",
       "  </tbody>\n",
       "</table>\n",
       "</div>"
      ],
      "text/plain": [
       "               f0        f1        f2   product\n",
       "f0       1.000000  0.182287 -0.001777 -0.030491\n",
       "f1       0.182287  1.000000 -0.002595 -0.010155\n",
       "f2      -0.001777 -0.002595  1.000000  0.999397\n",
       "product -0.030491 -0.010155  0.999397  1.000000"
      ]
     },
     "execution_count": 17,
     "metadata": {},
     "output_type": "execute_result"
    }
   ],
   "source": [
    "data_2.corr()"
   ]
  },
  {
   "cell_type": "code",
   "execution_count": 18,
   "metadata": {},
   "outputs": [
    {
     "data": {
      "text/html": [
       "<div>\n",
       "<style scoped>\n",
       "    .dataframe tbody tr th:only-of-type {\n",
       "        vertical-align: middle;\n",
       "    }\n",
       "\n",
       "    .dataframe tbody tr th {\n",
       "        vertical-align: top;\n",
       "    }\n",
       "\n",
       "    .dataframe thead th {\n",
       "        text-align: right;\n",
       "    }\n",
       "</style>\n",
       "<table border=\"1\" class=\"dataframe\">\n",
       "  <thead>\n",
       "    <tr style=\"text-align: right;\">\n",
       "      <th></th>\n",
       "      <th>f0</th>\n",
       "      <th>f1</th>\n",
       "      <th>f2</th>\n",
       "      <th>product</th>\n",
       "    </tr>\n",
       "  </thead>\n",
       "  <tbody>\n",
       "    <tr>\n",
       "      <th>f0</th>\n",
       "      <td>1.000000</td>\n",
       "      <td>0.000528</td>\n",
       "      <td>-0.000448</td>\n",
       "      <td>-0.001987</td>\n",
       "    </tr>\n",
       "    <tr>\n",
       "      <th>f1</th>\n",
       "      <td>0.000528</td>\n",
       "      <td>1.000000</td>\n",
       "      <td>0.000779</td>\n",
       "      <td>-0.001012</td>\n",
       "    </tr>\n",
       "    <tr>\n",
       "      <th>f2</th>\n",
       "      <td>-0.000448</td>\n",
       "      <td>0.000779</td>\n",
       "      <td>1.000000</td>\n",
       "      <td>0.445871</td>\n",
       "    </tr>\n",
       "    <tr>\n",
       "      <th>product</th>\n",
       "      <td>-0.001987</td>\n",
       "      <td>-0.001012</td>\n",
       "      <td>0.445871</td>\n",
       "      <td>1.000000</td>\n",
       "    </tr>\n",
       "  </tbody>\n",
       "</table>\n",
       "</div>"
      ],
      "text/plain": [
       "               f0        f1        f2   product\n",
       "f0       1.000000  0.000528 -0.000448 -0.001987\n",
       "f1       0.000528  1.000000  0.000779 -0.001012\n",
       "f2      -0.000448  0.000779  1.000000  0.445871\n",
       "product -0.001987 -0.001012  0.445871  1.000000"
      ]
     },
     "execution_count": 18,
     "metadata": {},
     "output_type": "execute_result"
    }
   ],
   "source": [
    "data_3.corr()"
   ]
  },
  {
   "cell_type": "code",
   "execution_count": 19,
   "metadata": {},
   "outputs": [
    {
     "data": {
      "text/plain": [
       "array(['txEyH', '2acmU', '409Wp', ..., '3rnvd', '7kl59', '1CWhH'],\n",
       "      dtype=object)"
      ]
     },
     "execution_count": 19,
     "metadata": {},
     "output_type": "execute_result"
    }
   ],
   "source": [
    "data_1['id'].unique()"
   ]
  },
  {
   "cell_type": "code",
   "execution_count": 20,
   "metadata": {},
   "outputs": [
    {
     "data": {
      "text/plain": [
       "array(['kBEdx', '62mP7', 'vyE1P', ..., '09gWa', 'rqwUm', 'relB0'],\n",
       "      dtype=object)"
      ]
     },
     "execution_count": 20,
     "metadata": {},
     "output_type": "execute_result"
    }
   ],
   "source": [
    "data_2['id'].unique()"
   ]
  },
  {
   "cell_type": "code",
   "execution_count": 21,
   "metadata": {},
   "outputs": [
    {
     "data": {
      "text/plain": [
       "array(['fwXo0', 'WJtFt', 'ovLUW', ..., 'tKPY3', 'nmxp2', 'V9kWn'],\n",
       "      dtype=object)"
      ]
     },
     "execution_count": 21,
     "metadata": {},
     "output_type": "execute_result"
    }
   ],
   "source": [
    "data_3['id'].unique()"
   ]
  },
  {
   "cell_type": "markdown",
   "metadata": {},
   "source": [
    "* Пропусков в данных не обнаружено\n",
    "* Размер трёх выборок одинаковый\n",
    "* Дубликатов в данных не обнаружено\n",
    "* Данные представлены в одном мастштабе\n",
    "* Все признаки являются численными"
   ]
  },
  {
   "cell_type": "markdown",
   "metadata": {},
   "source": [
    "## Обучение и проверка модели"
   ]
  },
  {
   "cell_type": "code",
   "execution_count": 22,
   "metadata": {},
   "outputs": [
    {
     "name": "stdout",
     "output_type": "stream",
     "text": [
      "(75000, 5)\n"
     ]
    },
    {
     "data": {
      "text/plain": [
       "(25000, 5)"
      ]
     },
     "execution_count": 22,
     "metadata": {},
     "output_type": "execute_result"
    }
   ],
   "source": [
    "data_1_train, data_1_valid = train_test_split(data_1, test_size=0.25, random_state=12345)\n",
    "print(data_1_train.shape)\n",
    "data_1_valid.shape"
   ]
  },
  {
   "cell_type": "markdown",
   "metadata": {},
   "source": [
    "Делим данные 1 региона на две выборки: обучающую (75%) и валидационную (25%).\n",
    "В обучающие признаки данные из обучающей выборки, исключив ненужные столбцы. В целевой признак внесём столбец product."
   ]
  },
  {
   "cell_type": "code",
   "execution_count": 23,
   "metadata": {},
   "outputs": [],
   "source": [
    "features_train_1 = data_1_train.drop(['id', 'product'], axis=1)\n",
    "target_train_1 = data_1_train['product']\n",
    "features_valid_1 = data_1_valid.drop(['id', 'product'], axis=1)\n",
    "target_valid_1 = data_1_valid['product']"
   ]
  },
  {
   "cell_type": "markdown",
   "metadata": {},
   "source": [
    "Обучаем модель"
   ]
  },
  {
   "cell_type": "code",
   "execution_count": 24,
   "metadata": {},
   "outputs": [],
   "source": [
    "model_1 = LinearRegression()\n",
    "model_1.fit(features_train_1, target_train_1)\n",
    "predictions_valid_1 = model_1.predict(features_valid_1)"
   ]
  },
  {
   "cell_type": "code",
   "execution_count": 25,
   "metadata": {},
   "outputs": [
    {
     "data": {
      "text/plain": [
       "37.5794217150813"
      ]
     },
     "execution_count": 25,
     "metadata": {},
     "output_type": "execute_result"
    }
   ],
   "source": [
    "rmse_1 = mean_squared_error(target_valid_1, predictions_valid_1) ** 0.5\n",
    "rmse_1"
   ]
  },
  {
   "cell_type": "code",
   "execution_count": 26,
   "metadata": {},
   "outputs": [
    {
     "data": {
      "text/plain": [
       "92.59256778438035"
      ]
     },
     "execution_count": 26,
     "metadata": {},
     "output_type": "execute_result"
    }
   ],
   "source": [
    "# вычисляем средний запас предсказанного сырья\n",
    "product_pred_1 = predictions_valid_1.mean()\n",
    "product_pred_1"
   ]
  },
  {
   "cell_type": "code",
   "execution_count": 27,
   "metadata": {},
   "outputs": [
    {
     "name": "stdout",
     "output_type": "stream",
     "text": [
      "(75000, 5)\n"
     ]
    },
    {
     "data": {
      "text/plain": [
       "(25000, 5)"
      ]
     },
     "execution_count": 27,
     "metadata": {},
     "output_type": "execute_result"
    }
   ],
   "source": [
    "data_2_train, data_2_valid = train_test_split(data_2, test_size = 0.25, random_state=12345)\n",
    "print(data_2_train.shape)\n",
    "data_2_valid.shape"
   ]
  },
  {
   "cell_type": "code",
   "execution_count": 28,
   "metadata": {},
   "outputs": [],
   "source": [
    "features_train_2 = data_2_train.drop(['id', 'product'], axis=1)\n",
    "target_train_2 = data_2_train['product']\n",
    "features_valid_2 = data_2_valid.drop(['id', 'product'], axis=1)\n",
    "target_valid_2 = data_2_valid['product']"
   ]
  },
  {
   "cell_type": "code",
   "execution_count": 29,
   "metadata": {},
   "outputs": [],
   "source": [
    "model_2 = LinearRegression()\n",
    "model_1.fit(features_train_2, target_train_2)\n",
    "predictions_valid_2 = model_1.predict(features_valid_2)"
   ]
  },
  {
   "cell_type": "code",
   "execution_count": 30,
   "metadata": {},
   "outputs": [
    {
     "data": {
      "text/plain": [
       "0.893099286775617"
      ]
     },
     "execution_count": 30,
     "metadata": {},
     "output_type": "execute_result"
    }
   ],
   "source": [
    "rmse_2 = mean_squared_error(target_valid_2, predictions_valid_2) ** 0.5\n",
    "rmse_2"
   ]
  },
  {
   "cell_type": "code",
   "execution_count": 31,
   "metadata": {},
   "outputs": [
    {
     "data": {
      "text/plain": [
       "37.5794217150813"
      ]
     },
     "execution_count": 31,
     "metadata": {},
     "output_type": "execute_result"
    }
   ],
   "source": [
    "rms = mean_squared_error(target_valid_1, predictions_valid_1, squared=False)\n",
    "rms"
   ]
  },
  {
   "cell_type": "code",
   "execution_count": 32,
   "metadata": {},
   "outputs": [
    {
     "data": {
      "text/plain": [
       "68.728546895446"
      ]
     },
     "execution_count": 32,
     "metadata": {},
     "output_type": "execute_result"
    }
   ],
   "source": [
    "product_pred_2 = predictions_valid_2.mean()\n",
    "product_pred_2"
   ]
  },
  {
   "cell_type": "code",
   "execution_count": 33,
   "metadata": {},
   "outputs": [
    {
     "name": "stdout",
     "output_type": "stream",
     "text": [
      "(75000, 5)\n"
     ]
    },
    {
     "data": {
      "text/plain": [
       "(25000, 5)"
      ]
     },
     "execution_count": 33,
     "metadata": {},
     "output_type": "execute_result"
    }
   ],
   "source": [
    "data_3_train, data_3_valid = train_test_split(data_3, test_size=0.25, random_state=12345)\n",
    "print(data_3_train.shape)\n",
    "data_3_valid.shape"
   ]
  },
  {
   "cell_type": "code",
   "execution_count": 34,
   "metadata": {},
   "outputs": [],
   "source": [
    "features_train_3 = data_3_train.drop(['id', 'product'], axis=1)\n",
    "target_train_3 = data_3_train['product']\n",
    "features_valid_3 = data_3_valid.drop(['id', 'product'], axis=1)\n",
    "target_valid_3 = data_3_valid['product']"
   ]
  },
  {
   "cell_type": "code",
   "execution_count": 35,
   "metadata": {},
   "outputs": [],
   "source": [
    "model_3 = LinearRegression()\n",
    "model_3.fit(features_train_3, target_train_3)\n",
    "predictions_valid_3 = model_3.predict(features_valid_3)"
   ]
  },
  {
   "cell_type": "code",
   "execution_count": 36,
   "metadata": {},
   "outputs": [
    {
     "data": {
      "text/plain": [
       "40.02970873393434"
      ]
     },
     "execution_count": 36,
     "metadata": {},
     "output_type": "execute_result"
    }
   ],
   "source": [
    "rmse_3 = mean_squared_error(target_valid_3, predictions_valid_3) ** 0.5\n",
    "rmse_3"
   ]
  },
  {
   "cell_type": "code",
   "execution_count": 37,
   "metadata": {},
   "outputs": [
    {
     "data": {
      "text/plain": [
       "94.96504596800489"
      ]
     },
     "execution_count": 37,
     "metadata": {},
     "output_type": "execute_result"
    }
   ],
   "source": [
    "product_pred_3 = predictions_valid_3.mean()\n",
    "product_pred_3"
   ]
  },
  {
   "cell_type": "code",
   "execution_count": 38,
   "metadata": {},
   "outputs": [],
   "source": [
    "def split_and_train(data):\n",
    "    features = data.drop([\"product\",\"id\"], axis=1)\n",
    "    target = data[\"product\"]\n",
    "    features_train, features_valid, target_train, target_valid = train_test_split(features, \n",
    "                                                                                  target, \n",
    "                                                                                  test_size=0.25, \n",
    "                                                                                  random_state=1)\n",
    "    scaler = StandardScaler()\n",
    "    features_train = scaler.fit_transform(features_train)\n",
    "    features_valid = scaler.transform(features_valid)\n",
    "    \n",
    "    lr = LinearRegression(normalize=False)\n",
    "    lr.fit(features_train, target_train)\n",
    "    predictions = lr.predict(features_valid)\n",
    "    predictions = pd.Series(predictions)\n",
    "    rmse = (mean_squared_error(predictions, target_valid))**(0.5)\n",
    "    product = sum(predictions) / len(predictions)\n",
    "    \n",
    "    print(\"RMSE: {0:.2f}\".format(rmse))\n",
    "    print(\"product: {0:.2f}\".format(product))\n",
    "    \n",
    "    return (predictions, target_valid.reset_index(drop=True), rmse)"
   ]
  },
  {
   "cell_type": "code",
   "execution_count": 39,
   "metadata": {},
   "outputs": [
    {
     "name": "stdout",
     "output_type": "stream",
     "text": [
      "Region 1:\n",
      "RMSE: 37.74\n",
      "product: 92.49\n",
      "Region 2:\n",
      "RMSE: 0.89\n",
      "product: 69.12\n",
      "Region 3:\n",
      "RMSE: 39.87\n",
      "product: 94.96\n"
     ]
    }
   ],
   "source": [
    "i = 1\n",
    "for region in [data_1, data_2, data_3]:\n",
    "    print(f\"Region {i}:\")\n",
    "    \n",
    "    split_and_train(region)\n",
    "    \n",
    "    i+=1"
   ]
  },
  {
   "cell_type": "code",
   "execution_count": 40,
   "metadata": {},
   "outputs": [
    {
     "data": {
      "text/html": [
       "<div>\n",
       "<style scoped>\n",
       "    .dataframe tbody tr th:only-of-type {\n",
       "        vertical-align: middle;\n",
       "    }\n",
       "\n",
       "    .dataframe tbody tr th {\n",
       "        vertical-align: top;\n",
       "    }\n",
       "\n",
       "    .dataframe thead th {\n",
       "        text-align: right;\n",
       "    }\n",
       "</style>\n",
       "<table border=\"1\" class=\"dataframe\">\n",
       "  <thead>\n",
       "    <tr style=\"text-align: right;\">\n",
       "      <th></th>\n",
       "      <th>1 регион</th>\n",
       "      <th>2 регион</th>\n",
       "      <th>3 регион</th>\n",
       "    </tr>\n",
       "  </thead>\n",
       "  <tbody>\n",
       "    <tr>\n",
       "      <th>средний запас предсказанного сырья</th>\n",
       "      <td>92.592568</td>\n",
       "      <td>68.728547</td>\n",
       "      <td>94.965046</td>\n",
       "    </tr>\n",
       "    <tr>\n",
       "      <th>RMSE модели</th>\n",
       "      <td>37.579422</td>\n",
       "      <td>0.893099</td>\n",
       "      <td>40.029709</td>\n",
       "    </tr>\n",
       "  </tbody>\n",
       "</table>\n",
       "</div>"
      ],
      "text/plain": [
       "                                     1 регион   2 регион   3 регион\n",
       "средний запас предсказанного сырья  92.592568  68.728547  94.965046\n",
       "RMSE модели                         37.579422   0.893099  40.029709"
      ]
     },
     "execution_count": 40,
     "metadata": {},
     "output_type": "execute_result"
    }
   ],
   "source": [
    "table_1 = pd.DataFrame(index=['средний запас предсказанного сырья','RMSE модели'], columns=['1 регион','2 регион','3 регион'])\n",
    "table_1['1 регион'] = product_pred_1.mean(), rmse_1\n",
    "table_1['2 регион'] = product_pred_2.mean(), rmse_2\n",
    "table_1['3 регион'] = product_pred_3.mean(), rmse_3\n",
    "table_1"
   ]
  },
  {
   "cell_type": "markdown",
   "metadata": {},
   "source": [
    "**Вывод**\n",
    "\n",
    "Модели были обучены и протестированы на точность предсказания с использованием метрики RMSE, которая определяет среднеквадратичную ошибку в предсказаниях модели. Анализируя результаты, представленные в нашей сводной таблице, можно заметить, что значение RMSE во втором регионе существенно отличается от двух других. Это объясняется тем, что модель была обучена на практически равных данных по объему, и поэтому ошибка в предсказаниях этой модели не может сильно варьироваться"
   ]
  },
  {
   "cell_type": "markdown",
   "metadata": {},
   "source": [
    "## Подготовка к расчёту прибыли"
   ]
  },
  {
   "cell_type": "markdown",
   "metadata": {},
   "source": [
    "При разведке региона исследуюем 500 точек, из которых с помощью машинного обучения выберем 200 лучших для разработки.\n",
    "Бюджет на разработку скважин в регионе — 10 млрд рублей.\n",
    "При нынешних ценах один баррель сырья приносит 450 рублей дохода. Доход с каждой единицы продукта составляет 450 тыс.\n",
    "рублей, поскольку объём указан в тысячах баррелей.\n",
    "После оценки рисков оставим лишь те регионы, в которых вероятность убытков меньше 2.5%."
   ]
  },
  {
   "cell_type": "code",
   "execution_count": 41,
   "metadata": {},
   "outputs": [],
   "source": [
    "budget = 10_000_000_000"
   ]
  },
  {
   "cell_type": "code",
   "execution_count": 42,
   "metadata": {},
   "outputs": [],
   "source": [
    "total_count = 500"
   ]
  },
  {
   "cell_type": "code",
   "execution_count": 43,
   "metadata": {},
   "outputs": [],
   "source": [
    "count_of_wells = 200"
   ]
  },
  {
   "cell_type": "code",
   "execution_count": 44,
   "metadata": {},
   "outputs": [],
   "source": [
    "price_one_well = budget / count_of_wells "
   ]
  },
  {
   "cell_type": "code",
   "execution_count": 45,
   "metadata": {},
   "outputs": [],
   "source": [
    "price_one_thousand_barrels = 450_000"
   ]
  },
  {
   "cell_type": "code",
   "execution_count": 46,
   "metadata": {},
   "outputs": [],
   "source": [
    "samples_number = 1000"
   ]
  },
  {
   "cell_type": "code",
   "execution_count": 47,
   "metadata": {},
   "outputs": [
    {
     "name": "stdout",
     "output_type": "stream",
     "text": [
      "Точка безубыточности: 22222 тыс. баррелей\n"
     ]
    }
   ],
   "source": [
    "n = budget / price_one_thousand_barrels\n",
    "print(\"Точка безубыточности: {0:.0f} тыс. баррелей\".format(n))"
   ]
  },
  {
   "cell_type": "code",
   "execution_count": 48,
   "metadata": {},
   "outputs": [
    {
     "name": "stdout",
     "output_type": "stream",
     "text": [
      "Средний объем нефти в скважине для безубыточного функционирования: 112.0\n"
     ]
    }
   ],
   "source": [
    "print(\"Средний объем нефти в скважине для безубыточного функционирования:\", np.ceil(n/200))"
   ]
  },
  {
   "cell_type": "markdown",
   "metadata": {},
   "source": [
    "При существующем уровне цен в 450 тыс.руб., безубыточная добыча начинается со скважин с запасом в 112 тыс.баррелей. По предсказаниям в среднем такого объема нет ни в одном регионе."
   ]
  },
  {
   "cell_type": "markdown",
   "metadata": {},
   "source": [
    "## Расчёт прибыли и рисков "
   ]
  },
  {
   "cell_type": "code",
   "execution_count": 49,
   "metadata": {},
   "outputs": [],
   "source": [
    "target_valid_1 = pd.Series(target_valid_1).reset_index(drop=True)\n",
    "predictions_valid_1 = pd.Series(predictions_valid_1).reset_index(drop=True)\n",
    "\n",
    "target_valid_2 = pd.Series(target_valid_2).reset_index(drop=True)\n",
    "predictions_valid_2 = pd.Series(predictions_valid_2).reset_index(drop=True)\n",
    "\n",
    "target_valid_3 = pd.Series(target_valid_3).reset_index(drop=True)\n",
    "predictions_valid_3 = pd.Series(predictions_valid_3).reset_index(drop=True)"
   ]
  },
  {
   "cell_type": "code",
   "execution_count": 50,
   "metadata": {},
   "outputs": [],
   "source": [
    "def revenue(target, predictions, count_of_wells):\n",
    "    preds_sorted = predictions.sort_values(ascending=False)\n",
    "    selected = target[preds_sorted.index][:count_of_wells]\n",
    "    return price_one_thousand_barrels * selected.sum() - budget"
   ]
  },
  {
   "cell_type": "code",
   "execution_count": 51,
   "metadata": {},
   "outputs": [
    {
     "name": "stdout",
     "output_type": "stream",
     "text": [
      "Первый регион\n",
      "Средняя возможная прибыль: 396164984.8023711\n",
      "95%-доверительный интервал: от -111215545.89049526 до 909766941.5534226\n",
      "Вероятность убытков: 0.069 %\n",
      "Второй регион\n",
      "Средняя возможная прибыль: 461155817.2772397\n",
      "95%-доверительный интервал: от 78050810.7517417 до 862952060.2637234\n",
      "Вероятность убытков: 0.007 %\n",
      "Третий регион\n",
      "Средняя возможная прибыль: 392950475.17060447\n",
      "95%-доверительный интервал: от -112227625.37857565 до 934562914.5511636\n",
      "Вероятность убытков: 0.065 %\n"
     ]
    }
   ],
   "source": [
    "target = [target_valid_1, target_valid_2, target_valid_3]\n",
    "predictions = [predictions_valid_1, predictions_valid_2, predictions_valid_3]\n",
    "regions = ['Первый регион', 'Второй регион', 'Третий регион']\n",
    "\n",
    "state = np.random.RandomState(12345)\n",
    "\n",
    "for m in range(len(target)):\n",
    "    values = []\n",
    "    for i in range(samples_number):\n",
    "        target_subsample = target[m].sample(n=total_count, replace=True, random_state=state)\n",
    "        predictions_subsample = predictions[m].loc[target_subsample.index]\n",
    "        values.append(revenue(target_subsample.reset_index(drop=True), predictions_subsample.reset_index(drop=True), count_of_wells))\n",
    "\n",
    "    values = pd.Series(values)\n",
    "    lower = values.quantile(0.025)\n",
    "    upper = values.quantile(0.975)\n",
    "\n",
    "    mean = values.mean()\n",
    "    \n",
    "    #loss = sum(values < 0) / values.count() * 100\n",
    "    risk = (values < 0).mean()\n",
    "    \n",
    "    print(regions[m])\n",
    "    print(\"Средняя возможная прибыль:\", mean)\n",
    "    print(\"95%-доверительный интервал:\", \"от\", lower, \"до\", upper)\n",
    "    print(\"Вероятность убытков:\", risk, \"%\")"
   ]
  },
  {
   "cell_type": "markdown",
   "metadata": {},
   "source": [
    "**Вывод**\n",
    "\n",
    "Согласно распределению среднего значения прибыли с региона, самым прибыльным оказался 2, средняя прибыль в этом регионе составит 461 млн.рублей. Остальные регионы отбор по минимально допустимому порогу убытка в 2,5% не прошли. Таким образом не смотря на сравнительно меньшие запасы сырья, по сравнению с 1 регионом, средняя доходность со скважин в 2 регионе прогнозируется выше.\n",
    "\n",
    "Мы исследовали данные по запасам в скважинах трёх регионов, в каждом из которых были данные о запасах сырья по 10 тыс.скважинам. Мы обнаружили, что средний запас ресурсов по регионам недостаточен даже для окупаемости вложений на разработку и для того, чтобы иметь уверенность в перспективе разработки по регионам, мы обучили модель и выполнили предсказания при помощи, а так же применили технологию bootstrap с разделением каждого предсказанного значения прибыли по регионам на 1000 выборок.\n",
    "\n",
    "По результату полученных данных мы определили доверительный интревал получения прибыли в 95%, ограничив вероятность убытка величиной менее 2,5%. И на основе этих данных смогли выбрать более перспективный регион ( им оказался регион 2) для разработки 200 скважин."
   ]
  },
  {
   "cell_type": "markdown",
   "metadata": {},
   "source": [
    "## Чек-лист готовности проекта"
   ]
  },
  {
   "cell_type": "markdown",
   "metadata": {},
   "source": [
    "\n",
    "- [x]  Весь код выполняется без ошибок\n",
    "- [x]  Ячейки с кодом расположены в порядке исполнения\n",
    "- [x]  Выполнен шаг 1: данные подготовлены\n",
    "- [x]  Выполнен шаг 2: модели обучены и проверены\n",
    "    - [x]  Данные корректно разбиты на обучающую и валидационную выборки\n",
    "    - [x]  Модели обучены, предсказания сделаны\n",
    "    - [x]  Предсказания и правильные ответы на валидационной выборке сохранены\n",
    "    - [x]  На экране напечатаны результаты\n",
    "    - [x]  Сделаны выводы\n",
    "- [x]  Выполнен шаг 3: проведена подготовка к расчёту прибыли\n",
    "    - [x]  Для всех ключевых значений созданы константы Python\n",
    "    - [x]  Посчитано минимальное среднее количество продукта в месторождениях региона, достаточное для разработки\n",
    "    - [x]  По предыдущему пункту сделаны выводы\n",
    "    - [x]  Написана функция расчёта прибыли\n",
    "- [x]  Выполнен шаг 4: посчитаны риски и прибыль\n",
    "    - [x]  Проведена процедура *Bootstrap*\n",
    "    - [x]  Все параметры бутстрепа соответствуют условию\n",
    "    - [x]  Найдены все нужные величины\n",
    "    - [x]  Предложен регион для разработки месторождения\n",
    "    - [x]  Выбор региона обоснован"
   ]
  },
  {
   "cell_type": "code",
   "execution_count": null,
   "metadata": {},
   "outputs": [],
   "source": []
  }
 ],
 "metadata": {
  "ExecuteTimeLog": [
   {
    "duration": 1136,
    "start_time": "2023-07-02T15:27:32.357Z"
   },
   {
    "duration": 1711,
    "start_time": "2023-07-02T15:29:24.294Z"
   },
   {
    "duration": 15,
    "start_time": "2023-07-02T15:38:36.929Z"
   },
   {
    "duration": 14,
    "start_time": "2023-07-02T15:39:07.596Z"
   },
   {
    "duration": 49,
    "start_time": "2023-07-02T15:39:23.402Z"
   },
   {
    "duration": 11,
    "start_time": "2023-07-02T15:41:45.496Z"
   },
   {
    "duration": 16,
    "start_time": "2023-07-02T15:41:53.270Z"
   },
   {
    "duration": 45,
    "start_time": "2023-07-02T15:42:02.928Z"
   },
   {
    "duration": 15,
    "start_time": "2023-07-02T15:42:19.716Z"
   },
   {
    "duration": 14,
    "start_time": "2023-07-02T15:42:27.638Z"
   },
   {
    "duration": 33,
    "start_time": "2023-07-02T15:42:42.110Z"
   },
   {
    "duration": 178,
    "start_time": "2023-07-02T15:50:04.014Z"
   },
   {
    "duration": 20,
    "start_time": "2023-07-02T16:39:18.330Z"
   },
   {
    "duration": 109,
    "start_time": "2023-07-02T16:40:27.305Z"
   },
   {
    "duration": 7,
    "start_time": "2023-07-02T16:40:36.307Z"
   },
   {
    "duration": 7,
    "start_time": "2023-07-02T16:43:25.073Z"
   },
   {
    "duration": 13,
    "start_time": "2023-07-02T16:44:21.785Z"
   },
   {
    "duration": 7,
    "start_time": "2023-07-02T16:44:47.404Z"
   },
   {
    "duration": 9,
    "start_time": "2023-07-02T16:46:05.385Z"
   },
   {
    "duration": 4,
    "start_time": "2023-07-02T16:46:11.379Z"
   },
   {
    "duration": 4,
    "start_time": "2023-07-02T16:46:51.697Z"
   },
   {
    "duration": 20,
    "start_time": "2023-07-02T16:48:06.892Z"
   },
   {
    "duration": 9,
    "start_time": "2023-07-02T16:48:44.315Z"
   },
   {
    "duration": 14,
    "start_time": "2023-07-02T16:49:04.582Z"
   },
   {
    "duration": 6,
    "start_time": "2023-07-02T16:49:25.550Z"
   },
   {
    "duration": 5,
    "start_time": "2023-07-02T16:50:03.919Z"
   },
   {
    "duration": 30,
    "start_time": "2023-07-02T16:58:40.674Z"
   },
   {
    "duration": 23,
    "start_time": "2023-07-02T16:59:02.233Z"
   },
   {
    "duration": 30,
    "start_time": "2023-07-02T16:59:12.044Z"
   },
   {
    "duration": 7,
    "start_time": "2023-07-02T16:59:43.083Z"
   },
   {
    "duration": 30,
    "start_time": "2023-07-02T17:00:04.622Z"
   },
   {
    "duration": 19,
    "start_time": "2023-07-02T17:00:09.586Z"
   },
   {
    "duration": 5,
    "start_time": "2023-07-02T17:00:32.012Z"
   },
   {
    "duration": 9,
    "start_time": "2023-07-02T17:00:54.276Z"
   },
   {
    "duration": 5,
    "start_time": "2023-07-02T17:02:32.590Z"
   },
   {
    "duration": 15,
    "start_time": "2023-07-02T17:04:07.464Z"
   },
   {
    "duration": 12,
    "start_time": "2023-07-02T17:04:17.223Z"
   },
   {
    "duration": 2,
    "start_time": "2023-07-02T17:18:52.902Z"
   },
   {
    "duration": 3,
    "start_time": "2023-07-02T17:22:53.195Z"
   },
   {
    "duration": 3,
    "start_time": "2023-07-02T17:23:01.377Z"
   },
   {
    "duration": 3,
    "start_time": "2023-07-02T17:23:31.137Z"
   },
   {
    "duration": 10,
    "start_time": "2023-07-02T17:30:58.795Z"
   },
   {
    "duration": 3,
    "start_time": "2023-07-02T17:31:08.871Z"
   },
   {
    "duration": 3,
    "start_time": "2023-07-02T17:31:11.648Z"
   },
   {
    "duration": 4,
    "start_time": "2023-07-02T17:32:28.193Z"
   },
   {
    "duration": 4,
    "start_time": "2023-07-02T17:34:54.877Z"
   },
   {
    "duration": 3,
    "start_time": "2023-07-02T17:35:06.745Z"
   },
   {
    "duration": 3,
    "start_time": "2023-07-02T17:35:09.651Z"
   },
   {
    "duration": 5,
    "start_time": "2023-07-02T17:35:20.089Z"
   },
   {
    "duration": 3,
    "start_time": "2023-07-02T17:35:22.753Z"
   },
   {
    "duration": 11,
    "start_time": "2023-07-02T17:57:03.674Z"
   },
   {
    "duration": 2,
    "start_time": "2023-07-02T17:57:27.915Z"
   },
   {
    "duration": 3,
    "start_time": "2023-07-02T17:57:30.235Z"
   },
   {
    "duration": 3,
    "start_time": "2023-07-02T17:57:31.829Z"
   },
   {
    "duration": 19,
    "start_time": "2023-07-02T17:57:38.214Z"
   },
   {
    "duration": 3,
    "start_time": "2023-07-02T17:57:47.773Z"
   },
   {
    "duration": 2,
    "start_time": "2023-07-02T17:57:48.641Z"
   },
   {
    "duration": 15,
    "start_time": "2023-07-02T17:57:52.017Z"
   },
   {
    "duration": 5,
    "start_time": "2023-07-02T18:01:54.625Z"
   },
   {
    "duration": 11,
    "start_time": "2023-07-02T18:03:08.446Z"
   },
   {
    "duration": 4,
    "start_time": "2023-07-02T18:07:49.107Z"
   },
   {
    "duration": 14,
    "start_time": "2023-07-02T18:07:57.172Z"
   },
   {
    "duration": 5,
    "start_time": "2023-07-02T18:09:40.499Z"
   },
   {
    "duration": 3,
    "start_time": "2023-07-02T18:09:41.416Z"
   },
   {
    "duration": 14,
    "start_time": "2023-07-02T18:09:42.089Z"
   },
   {
    "duration": 3558,
    "start_time": "2023-07-02T18:10:03.104Z"
   },
   {
    "duration": 4146,
    "start_time": "2023-07-02T18:24:36.446Z"
   },
   {
    "duration": 3185,
    "start_time": "2023-07-02T18:25:39.409Z"
   },
   {
    "duration": 5,
    "start_time": "2023-07-02T18:26:08.342Z"
   },
   {
    "duration": 3,
    "start_time": "2023-07-02T18:26:10.817Z"
   },
   {
    "duration": 3415,
    "start_time": "2023-07-02T18:26:13.593Z"
   },
   {
    "duration": 7,
    "start_time": "2023-07-02T18:26:29.419Z"
   },
   {
    "duration": 3,
    "start_time": "2023-07-02T18:26:30.391Z"
   },
   {
    "duration": 3489,
    "start_time": "2023-07-02T18:26:39.618Z"
   },
   {
    "duration": 2,
    "start_time": "2023-07-02T18:31:12.727Z"
   },
   {
    "duration": 5,
    "start_time": "2023-07-02T18:31:26.266Z"
   },
   {
    "duration": 6,
    "start_time": "2023-07-02T18:31:55.697Z"
   },
   {
    "duration": 4,
    "start_time": "2023-07-02T18:31:58.995Z"
   },
   {
    "duration": 3593,
    "start_time": "2023-07-02T18:32:01.032Z"
   },
   {
    "duration": 1106,
    "start_time": "2023-07-02T18:32:10.586Z"
   },
   {
    "duration": 360,
    "start_time": "2023-07-02T18:32:11.694Z"
   },
   {
    "duration": 25,
    "start_time": "2023-07-02T18:32:12.055Z"
   },
   {
    "duration": 16,
    "start_time": "2023-07-02T18:32:12.082Z"
   },
   {
    "duration": 39,
    "start_time": "2023-07-02T18:32:12.100Z"
   },
   {
    "duration": 24,
    "start_time": "2023-07-02T18:32:12.141Z"
   },
   {
    "duration": 24,
    "start_time": "2023-07-02T18:32:12.171Z"
   },
   {
    "duration": 55,
    "start_time": "2023-07-02T18:32:12.196Z"
   },
   {
    "duration": 20,
    "start_time": "2023-07-02T18:32:12.253Z"
   },
   {
    "duration": 13,
    "start_time": "2023-07-02T18:32:12.276Z"
   },
   {
    "duration": 34,
    "start_time": "2023-07-02T18:32:12.290Z"
   },
   {
    "duration": 172,
    "start_time": "2023-07-02T18:32:12.326Z"
   },
   {
    "duration": 25,
    "start_time": "2023-07-02T18:32:12.500Z"
   },
   {
    "duration": 7,
    "start_time": "2023-07-02T18:32:12.529Z"
   },
   {
    "duration": 50,
    "start_time": "2023-07-02T18:32:12.538Z"
   },
   {
    "duration": 80,
    "start_time": "2023-07-02T18:32:12.589Z"
   },
   {
    "duration": 8,
    "start_time": "2023-07-02T18:32:12.671Z"
   },
   {
    "duration": 23,
    "start_time": "2023-07-02T18:32:12.760Z"
   },
   {
    "duration": 6,
    "start_time": "2023-07-02T18:32:12.785Z"
   },
   {
    "duration": 25,
    "start_time": "2023-07-02T18:32:12.792Z"
   },
   {
    "duration": 53,
    "start_time": "2023-07-02T18:32:12.819Z"
   },
   {
    "duration": 91,
    "start_time": "2023-07-02T18:32:12.874Z"
   },
   {
    "duration": 40,
    "start_time": "2023-07-02T18:32:12.969Z"
   },
   {
    "duration": 7,
    "start_time": "2023-07-02T18:32:13.011Z"
   },
   {
    "duration": 55,
    "start_time": "2023-07-02T18:32:13.020Z"
   },
   {
    "duration": 82,
    "start_time": "2023-07-02T18:32:13.078Z"
   },
   {
    "duration": 17,
    "start_time": "2023-07-02T18:32:13.162Z"
   },
   {
    "duration": 100,
    "start_time": "2023-07-02T18:32:13.180Z"
   },
   {
    "duration": 19,
    "start_time": "2023-07-02T18:32:13.283Z"
   },
   {
    "duration": 21,
    "start_time": "2023-07-02T18:32:13.305Z"
   },
   {
    "duration": 9,
    "start_time": "2023-07-02T18:32:13.328Z"
   },
   {
    "duration": 11,
    "start_time": "2023-07-02T18:32:13.339Z"
   },
   {
    "duration": 13,
    "start_time": "2023-07-02T18:32:13.352Z"
   },
   {
    "duration": 11,
    "start_time": "2023-07-02T18:32:13.368Z"
   },
   {
    "duration": 4,
    "start_time": "2023-07-02T18:32:13.380Z"
   },
   {
    "duration": 10,
    "start_time": "2023-07-02T18:32:13.386Z"
   },
   {
    "duration": 9,
    "start_time": "2023-07-02T18:32:13.397Z"
   },
   {
    "duration": 4,
    "start_time": "2023-07-02T18:32:13.407Z"
   },
   {
    "duration": 3426,
    "start_time": "2023-07-02T18:32:13.413Z"
   },
   {
    "duration": 1624,
    "start_time": "2023-07-02T23:39:42.187Z"
   },
   {
    "duration": 874,
    "start_time": "2023-07-02T23:39:43.813Z"
   },
   {
    "duration": 19,
    "start_time": "2023-07-02T23:39:44.689Z"
   },
   {
    "duration": 15,
    "start_time": "2023-07-02T23:39:44.710Z"
   },
   {
    "duration": 37,
    "start_time": "2023-07-02T23:39:44.727Z"
   },
   {
    "duration": 9,
    "start_time": "2023-07-02T23:39:44.765Z"
   },
   {
    "duration": 48,
    "start_time": "2023-07-02T23:39:44.776Z"
   },
   {
    "duration": 80,
    "start_time": "2023-07-02T23:39:44.826Z"
   },
   {
    "duration": 9,
    "start_time": "2023-07-02T23:39:44.908Z"
   },
   {
    "duration": 22,
    "start_time": "2023-07-02T23:39:44.919Z"
   },
   {
    "duration": 32,
    "start_time": "2023-07-02T23:39:44.943Z"
   },
   {
    "duration": 130,
    "start_time": "2023-07-02T23:39:44.976Z"
   },
   {
    "duration": 25,
    "start_time": "2023-07-02T23:39:45.108Z"
   },
   {
    "duration": 7,
    "start_time": "2023-07-02T23:39:45.135Z"
   },
   {
    "duration": 22,
    "start_time": "2023-07-02T23:39:45.143Z"
   },
   {
    "duration": 68,
    "start_time": "2023-07-02T23:39:45.167Z"
   },
   {
    "duration": 99,
    "start_time": "2023-07-02T23:39:45.237Z"
   },
   {
    "duration": 16,
    "start_time": "2023-07-02T23:39:45.338Z"
   },
   {
    "duration": 5,
    "start_time": "2023-07-02T23:39:45.356Z"
   },
   {
    "duration": 17,
    "start_time": "2023-07-02T23:39:45.362Z"
   },
   {
    "duration": 100,
    "start_time": "2023-07-02T23:39:45.432Z"
   },
   {
    "duration": 5,
    "start_time": "2023-07-02T23:39:45.533Z"
   },
   {
    "duration": 17,
    "start_time": "2023-07-02T23:39:45.540Z"
   },
   {
    "duration": 7,
    "start_time": "2023-07-02T23:39:45.558Z"
   },
   {
    "duration": 15,
    "start_time": "2023-07-02T23:39:45.566Z"
   },
   {
    "duration": 7,
    "start_time": "2023-07-02T23:39:45.632Z"
   },
   {
    "duration": 120,
    "start_time": "2023-07-02T23:39:45.642Z"
   },
   {
    "duration": 11,
    "start_time": "2023-07-02T23:39:45.766Z"
   },
   {
    "duration": 4,
    "start_time": "2023-07-02T23:39:45.779Z"
   },
   {
    "duration": 5,
    "start_time": "2023-07-02T23:39:45.784Z"
   },
   {
    "duration": 27,
    "start_time": "2023-07-02T23:39:45.791Z"
   },
   {
    "duration": 13,
    "start_time": "2023-07-02T23:39:45.819Z"
   },
   {
    "duration": 8,
    "start_time": "2023-07-02T23:39:45.833Z"
   },
   {
    "duration": 10,
    "start_time": "2023-07-02T23:39:45.842Z"
   },
   {
    "duration": 6,
    "start_time": "2023-07-02T23:39:45.853Z"
   },
   {
    "duration": 8,
    "start_time": "2023-07-02T23:39:45.860Z"
   },
   {
    "duration": 28,
    "start_time": "2023-07-02T23:39:45.869Z"
   },
   {
    "duration": 10,
    "start_time": "2023-07-02T23:39:45.898Z"
   },
   {
    "duration": 3010,
    "start_time": "2023-07-02T23:39:45.909Z"
   },
   {
    "duration": 81,
    "start_time": "2023-07-03T17:32:58.927Z"
   },
   {
    "duration": 75,
    "start_time": "2023-07-03T17:38:32.140Z"
   },
   {
    "duration": 5,
    "start_time": "2023-07-03T17:49:58.107Z"
   },
   {
    "duration": 75,
    "start_time": "2023-07-03T17:50:09.847Z"
   },
   {
    "duration": 14,
    "start_time": "2023-07-03T17:50:27.674Z"
   },
   {
    "duration": 1463,
    "start_time": "2023-07-03T17:50:34.352Z"
   },
   {
    "duration": 47,
    "start_time": "2023-07-03T17:50:35.817Z"
   },
   {
    "duration": 2505,
    "start_time": "2023-07-03T17:50:35.868Z"
   },
   {
    "duration": 13,
    "start_time": "2023-07-03T17:50:38.375Z"
   },
   {
    "duration": 4,
    "start_time": "2023-07-03T17:50:38.391Z"
   },
   {
    "duration": 80,
    "start_time": "2023-07-03T17:50:38.397Z"
   },
   {
    "duration": 23,
    "start_time": "2023-07-03T17:50:38.480Z"
   },
   {
    "duration": 69,
    "start_time": "2023-07-03T17:50:38.506Z"
   },
   {
    "duration": 14,
    "start_time": "2023-07-03T17:50:38.577Z"
   },
   {
    "duration": 16,
    "start_time": "2023-07-03T17:50:38.594Z"
   },
   {
    "duration": 67,
    "start_time": "2023-07-03T17:50:38.612Z"
   },
   {
    "duration": 12,
    "start_time": "2023-07-03T17:50:38.681Z"
   },
   {
    "duration": 17,
    "start_time": "2023-07-03T17:50:38.695Z"
   },
   {
    "duration": 64,
    "start_time": "2023-07-03T17:50:38.714Z"
   },
   {
    "duration": 208,
    "start_time": "2023-07-03T17:50:38.780Z"
   },
   {
    "duration": 20,
    "start_time": "2023-07-03T17:50:38.990Z"
   },
   {
    "duration": 8,
    "start_time": "2023-07-03T17:50:39.011Z"
   },
   {
    "duration": 57,
    "start_time": "2023-07-03T17:50:39.022Z"
   },
   {
    "duration": 8,
    "start_time": "2023-07-03T17:50:39.083Z"
   },
   {
    "duration": 164,
    "start_time": "2023-07-03T17:50:39.093Z"
   },
   {
    "duration": 24,
    "start_time": "2023-07-03T17:50:39.263Z"
   },
   {
    "duration": 8,
    "start_time": "2023-07-03T17:50:39.289Z"
   },
   {
    "duration": 69,
    "start_time": "2023-07-03T17:50:39.299Z"
   },
   {
    "duration": 85,
    "start_time": "2023-07-03T17:50:39.374Z"
   },
   {
    "duration": 10,
    "start_time": "2023-07-03T17:50:39.461Z"
   },
   {
    "duration": 34,
    "start_time": "2023-07-03T17:50:39.474Z"
   },
   {
    "duration": 48,
    "start_time": "2023-07-03T17:50:39.510Z"
   },
   {
    "duration": 106,
    "start_time": "2023-07-03T17:50:39.567Z"
   },
   {
    "duration": 75,
    "start_time": "2023-07-03T17:50:39.681Z"
   },
   {
    "duration": 4,
    "start_time": "2023-07-03T17:50:39.758Z"
   },
   {
    "duration": 23,
    "start_time": "2023-07-03T17:50:39.764Z"
   },
   {
    "duration": 2,
    "start_time": "2023-07-03T17:50:39.790Z"
   },
   {
    "duration": 5,
    "start_time": "2023-07-03T17:50:39.794Z"
   },
   {
    "duration": 2,
    "start_time": "2023-07-03T17:50:39.802Z"
   },
   {
    "duration": 9,
    "start_time": "2023-07-03T17:50:39.858Z"
   },
   {
    "duration": 9,
    "start_time": "2023-07-03T17:50:39.869Z"
   },
   {
    "duration": 4,
    "start_time": "2023-07-03T17:50:39.880Z"
   },
   {
    "duration": 5,
    "start_time": "2023-07-03T17:50:39.885Z"
   },
   {
    "duration": 8,
    "start_time": "2023-07-03T17:50:39.892Z"
   },
   {
    "duration": 8,
    "start_time": "2023-07-03T17:50:39.902Z"
   },
   {
    "duration": 4,
    "start_time": "2023-07-03T17:50:39.911Z"
   },
   {
    "duration": 3894,
    "start_time": "2023-07-03T17:50:39.916Z"
   },
   {
    "duration": 56,
    "start_time": "2023-07-03T17:50:49.326Z"
   },
   {
    "duration": 97,
    "start_time": "2023-07-03T17:53:00.039Z"
   },
   {
    "duration": 17,
    "start_time": "2023-07-03T17:59:10.408Z"
   },
   {
    "duration": 36,
    "start_time": "2023-07-03T17:59:25.275Z"
   },
   {
    "duration": 37,
    "start_time": "2023-07-03T17:59:47.549Z"
   },
   {
    "duration": 16,
    "start_time": "2023-07-03T17:59:49.629Z"
   },
   {
    "duration": 24,
    "start_time": "2023-07-03T17:59:51.873Z"
   },
   {
    "duration": 62,
    "start_time": "2023-07-03T18:02:33.043Z"
   },
   {
    "duration": 126,
    "start_time": "2023-07-03T18:02:39.177Z"
   },
   {
    "duration": 32,
    "start_time": "2023-07-03T18:09:00.852Z"
   },
   {
    "duration": 17,
    "start_time": "2023-07-03T18:09:38.222Z"
   },
   {
    "duration": 17,
    "start_time": "2023-07-03T18:09:55.334Z"
   },
   {
    "duration": 19,
    "start_time": "2023-07-03T18:10:07.236Z"
   },
   {
    "duration": 107,
    "start_time": "2023-07-03T18:11:50.376Z"
   },
   {
    "duration": 9,
    "start_time": "2023-07-03T18:16:24.603Z"
   },
   {
    "duration": 6,
    "start_time": "2023-07-03T18:17:18.728Z"
   },
   {
    "duration": 4,
    "start_time": "2023-07-03T18:17:28.896Z"
   },
   {
    "duration": 11,
    "start_time": "2023-07-03T18:17:32.775Z"
   },
   {
    "duration": 6,
    "start_time": "2023-07-03T18:17:39.984Z"
   },
   {
    "duration": 23,
    "start_time": "2023-07-03T18:19:02.080Z"
   },
   {
    "duration": 21,
    "start_time": "2023-07-03T18:19:39.491Z"
   },
   {
    "duration": 8,
    "start_time": "2023-07-03T18:19:43.683Z"
   },
   {
    "duration": 126,
    "start_time": "2023-07-03T18:19:46.247Z"
   },
   {
    "duration": 6,
    "start_time": "2023-07-03T18:19:48.722Z"
   },
   {
    "duration": 5,
    "start_time": "2023-07-03T18:19:51.081Z"
   },
   {
    "duration": 13,
    "start_time": "2023-07-03T18:20:24.840Z"
   },
   {
    "duration": 62,
    "start_time": "2023-07-03T18:21:41.285Z"
   },
   {
    "duration": 5,
    "start_time": "2023-07-03T18:27:27.478Z"
   },
   {
    "duration": 35,
    "start_time": "2023-07-03T18:28:30.651Z"
   },
   {
    "duration": 5,
    "start_time": "2023-07-03T18:30:07.094Z"
   },
   {
    "duration": 446,
    "start_time": "2023-07-03T18:30:10.040Z"
   },
   {
    "duration": 6,
    "start_time": "2023-07-03T18:31:20.405Z"
   },
   {
    "duration": 416,
    "start_time": "2023-07-03T18:31:24.683Z"
   },
   {
    "duration": 466,
    "start_time": "2023-07-03T18:31:54.802Z"
   },
   {
    "duration": 17,
    "start_time": "2023-07-03T18:32:41.046Z"
   },
   {
    "duration": 4,
    "start_time": "2023-07-03T18:35:24.525Z"
   },
   {
    "duration": 2850,
    "start_time": "2023-07-03T18:35:32.325Z"
   },
   {
    "duration": 2895,
    "start_time": "2023-07-03T18:35:46.282Z"
   },
   {
    "duration": 1314,
    "start_time": "2023-07-03T18:36:09.604Z"
   },
   {
    "duration": 69,
    "start_time": "2023-07-03T18:36:10.921Z"
   },
   {
    "duration": 484,
    "start_time": "2023-07-03T18:36:10.992Z"
   },
   {
    "duration": 16,
    "start_time": "2023-07-03T18:36:11.484Z"
   },
   {
    "duration": 4,
    "start_time": "2023-07-03T18:36:11.501Z"
   },
   {
    "duration": 68,
    "start_time": "2023-07-03T18:36:11.507Z"
   },
   {
    "duration": 23,
    "start_time": "2023-07-03T18:36:11.577Z"
   },
   {
    "duration": 43,
    "start_time": "2023-07-03T18:36:11.602Z"
   },
   {
    "duration": 18,
    "start_time": "2023-07-03T18:36:11.657Z"
   },
   {
    "duration": 28,
    "start_time": "2023-07-03T18:36:11.678Z"
   },
   {
    "duration": 50,
    "start_time": "2023-07-03T18:36:11.708Z"
   },
   {
    "duration": 11,
    "start_time": "2023-07-03T18:36:11.759Z"
   },
   {
    "duration": 25,
    "start_time": "2023-07-03T18:36:11.775Z"
   },
   {
    "duration": 61,
    "start_time": "2023-07-03T18:36:11.802Z"
   },
   {
    "duration": 166,
    "start_time": "2023-07-03T18:36:11.865Z"
   },
   {
    "duration": 42,
    "start_time": "2023-07-03T18:36:12.033Z"
   },
   {
    "duration": 20,
    "start_time": "2023-07-03T18:36:12.079Z"
   },
   {
    "duration": 17,
    "start_time": "2023-07-03T18:36:12.100Z"
   },
   {
    "duration": 56,
    "start_time": "2023-07-03T18:36:12.119Z"
   },
   {
    "duration": 30,
    "start_time": "2023-07-03T18:36:12.180Z"
   },
   {
    "duration": 28,
    "start_time": "2023-07-03T18:36:12.212Z"
   },
   {
    "duration": 36,
    "start_time": "2023-07-03T18:36:12.242Z"
   },
   {
    "duration": 10,
    "start_time": "2023-07-03T18:36:12.281Z"
   },
   {
    "duration": 15,
    "start_time": "2023-07-03T18:36:12.296Z"
   },
   {
    "duration": 55,
    "start_time": "2023-07-03T18:36:12.314Z"
   },
   {
    "duration": 7,
    "start_time": "2023-07-03T18:36:12.371Z"
   },
   {
    "duration": 102,
    "start_time": "2023-07-03T18:36:12.380Z"
   },
   {
    "duration": 9,
    "start_time": "2023-07-03T18:36:12.491Z"
   },
   {
    "duration": 21,
    "start_time": "2023-07-03T18:36:12.502Z"
   },
   {
    "duration": 16,
    "start_time": "2023-07-03T18:36:12.560Z"
   },
   {
    "duration": 80,
    "start_time": "2023-07-03T18:36:12.578Z"
   },
   {
    "duration": 8,
    "start_time": "2023-07-03T18:36:12.660Z"
   },
   {
    "duration": 30,
    "start_time": "2023-07-03T18:36:12.672Z"
   },
   {
    "duration": 8,
    "start_time": "2023-07-03T18:36:12.704Z"
   },
   {
    "duration": 48,
    "start_time": "2023-07-03T18:36:12.714Z"
   },
   {
    "duration": 13,
    "start_time": "2023-07-03T18:36:12.764Z"
   },
   {
    "duration": 7,
    "start_time": "2023-07-03T18:36:12.779Z"
   },
   {
    "duration": 72,
    "start_time": "2023-07-03T18:36:12.788Z"
   },
   {
    "duration": 347,
    "start_time": "2023-07-03T18:36:12.865Z"
   },
   {
    "duration": 75,
    "start_time": "2023-07-03T18:36:13.214Z"
   },
   {
    "duration": 5,
    "start_time": "2023-07-03T18:36:13.355Z"
   },
   {
    "duration": 15,
    "start_time": "2023-07-03T18:36:13.362Z"
   },
   {
    "duration": 19,
    "start_time": "2023-07-03T18:36:13.378Z"
   },
   {
    "duration": 4,
    "start_time": "2023-07-03T18:36:13.400Z"
   },
   {
    "duration": 14,
    "start_time": "2023-07-03T18:36:13.406Z"
   },
   {
    "duration": 17,
    "start_time": "2023-07-03T18:36:13.422Z"
   },
   {
    "duration": 9,
    "start_time": "2023-07-03T18:36:13.441Z"
   },
   {
    "duration": 13,
    "start_time": "2023-07-03T18:36:13.452Z"
   },
   {
    "duration": 16,
    "start_time": "2023-07-03T18:36:13.473Z"
   },
   {
    "duration": 4,
    "start_time": "2023-07-03T18:36:13.493Z"
   },
   {
    "duration": 4290,
    "start_time": "2023-07-03T18:36:13.500Z"
   },
   {
    "duration": 4327,
    "start_time": "2023-07-03T18:36:25.538Z"
   },
   {
    "duration": 365,
    "start_time": "2023-07-03T18:38:19.507Z"
   },
   {
    "duration": 91,
    "start_time": "2023-07-03T18:56:12.903Z"
   },
   {
    "duration": 3796,
    "start_time": "2023-07-03T18:57:00.747Z"
   },
   {
    "duration": 248,
    "start_time": "2023-07-03T18:58:05.529Z"
   },
   {
    "duration": 73,
    "start_time": "2023-07-03T19:06:10.068Z"
   },
   {
    "duration": 8314,
    "start_time": "2023-07-04T06:31:21.179Z"
   },
   {
    "duration": 2259,
    "start_time": "2023-07-04T06:31:49.171Z"
   },
   {
    "duration": 68,
    "start_time": "2023-07-04T06:31:51.432Z"
   },
   {
    "duration": 476,
    "start_time": "2023-07-04T06:31:51.502Z"
   },
   {
    "duration": 18,
    "start_time": "2023-07-04T06:31:51.987Z"
   },
   {
    "duration": 11,
    "start_time": "2023-07-04T06:31:52.008Z"
   },
   {
    "duration": 91,
    "start_time": "2023-07-04T06:31:52.021Z"
   },
   {
    "duration": 22,
    "start_time": "2023-07-04T06:31:52.114Z"
   },
   {
    "duration": 75,
    "start_time": "2023-07-04T06:31:52.153Z"
   },
   {
    "duration": 14,
    "start_time": "2023-07-04T06:31:52.231Z"
   },
   {
    "duration": 38,
    "start_time": "2023-07-04T06:31:52.249Z"
   },
   {
    "duration": 74,
    "start_time": "2023-07-04T06:31:52.290Z"
   },
   {
    "duration": 24,
    "start_time": "2023-07-04T06:31:52.370Z"
   },
   {
    "duration": 31,
    "start_time": "2023-07-04T06:31:52.397Z"
   },
   {
    "duration": 48,
    "start_time": "2023-07-04T06:31:52.430Z"
   },
   {
    "duration": 207,
    "start_time": "2023-07-04T06:31:52.480Z"
   },
   {
    "duration": 22,
    "start_time": "2023-07-04T06:31:52.689Z"
   },
   {
    "duration": 48,
    "start_time": "2023-07-04T06:31:52.715Z"
   },
   {
    "duration": 48,
    "start_time": "2023-07-04T06:31:52.770Z"
   },
   {
    "duration": 54,
    "start_time": "2023-07-04T06:31:52.820Z"
   },
   {
    "duration": 76,
    "start_time": "2023-07-04T06:31:52.876Z"
   },
   {
    "duration": 72,
    "start_time": "2023-07-04T06:31:52.956Z"
   },
   {
    "duration": 28,
    "start_time": "2023-07-04T06:31:53.031Z"
   },
   {
    "duration": 42,
    "start_time": "2023-07-04T06:31:53.060Z"
   },
   {
    "duration": 80,
    "start_time": "2023-07-04T06:31:53.104Z"
   },
   {
    "duration": 128,
    "start_time": "2023-07-04T06:31:53.187Z"
   },
   {
    "duration": 58,
    "start_time": "2023-07-04T06:31:53.318Z"
   },
   {
    "duration": 88,
    "start_time": "2023-07-04T06:31:53.379Z"
   },
   {
    "duration": 53,
    "start_time": "2023-07-04T06:31:53.472Z"
   },
   {
    "duration": 148,
    "start_time": "2023-07-04T06:31:53.528Z"
   },
   {
    "duration": 76,
    "start_time": "2023-07-04T06:31:53.687Z"
   },
   {
    "duration": 45,
    "start_time": "2023-07-04T06:31:53.765Z"
   },
   {
    "duration": 23,
    "start_time": "2023-07-04T06:31:53.811Z"
   },
   {
    "duration": 81,
    "start_time": "2023-07-04T06:31:53.837Z"
   },
   {
    "duration": 24,
    "start_time": "2023-07-04T06:31:53.920Z"
   },
   {
    "duration": 65,
    "start_time": "2023-07-04T06:31:53.947Z"
   },
   {
    "duration": 66,
    "start_time": "2023-07-04T06:31:54.013Z"
   },
   {
    "duration": 109,
    "start_time": "2023-07-04T06:31:54.093Z"
   },
   {
    "duration": 45,
    "start_time": "2023-07-04T06:31:54.205Z"
   },
   {
    "duration": 501,
    "start_time": "2023-07-04T06:31:54.252Z"
   },
   {
    "duration": 54,
    "start_time": "2023-07-04T06:31:54.760Z"
   },
   {
    "duration": 69,
    "start_time": "2023-07-04T06:31:54.816Z"
   },
   {
    "duration": 16,
    "start_time": "2023-07-04T06:31:54.887Z"
   },
   {
    "duration": 25,
    "start_time": "2023-07-04T06:31:54.908Z"
   },
   {
    "duration": 22,
    "start_time": "2023-07-04T06:31:54.935Z"
   },
   {
    "duration": 35,
    "start_time": "2023-07-04T06:31:54.959Z"
   },
   {
    "duration": 6,
    "start_time": "2023-07-04T06:31:54.996Z"
   },
   {
    "duration": 12,
    "start_time": "2023-07-04T06:31:55.006Z"
   },
   {
    "duration": 18,
    "start_time": "2023-07-04T06:31:55.020Z"
   },
   {
    "duration": 45,
    "start_time": "2023-07-04T06:31:55.040Z"
   },
   {
    "duration": 12,
    "start_time": "2023-07-04T06:31:55.088Z"
   },
   {
    "duration": 4889,
    "start_time": "2023-07-04T06:31:55.103Z"
   },
   {
    "duration": 6437,
    "start_time": "2023-07-04T06:31:59.993Z"
   },
   {
    "duration": 5143,
    "start_time": "2023-07-04T06:32:35.855Z"
   },
   {
    "duration": 2173,
    "start_time": "2023-07-04T06:32:42.644Z"
   }
  ],
  "kernelspec": {
   "display_name": "Python 3 (ipykernel)",
   "language": "python",
   "name": "python3"
  },
  "language_info": {
   "codemirror_mode": {
    "name": "ipython",
    "version": 3
   },
   "file_extension": ".py",
   "mimetype": "text/x-python",
   "name": "python",
   "nbconvert_exporter": "python",
   "pygments_lexer": "ipython3",
   "version": "3.9.5"
  },
  "toc": {
   "base_numbering": 1,
   "nav_menu": {},
   "number_sections": true,
   "sideBar": true,
   "skip_h1_title": true,
   "title_cell": "Table of Contents",
   "title_sidebar": "Contents",
   "toc_cell": false,
   "toc_position": {},
   "toc_section_display": true,
   "toc_window_display": false
  }
 },
 "nbformat": 4,
 "nbformat_minor": 2
}
